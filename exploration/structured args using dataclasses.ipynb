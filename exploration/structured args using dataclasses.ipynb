{
 "cells": [
  {
   "cell_type": "code",
   "execution_count": 3,
   "metadata": {},
   "outputs": [
    {
     "name": "stdout",
     "output_type": "stream",
     "text": [
      "Note: you may need to restart the kernel to use updated packages.\n"
     ]
    },
    {
     "name": "stderr",
     "output_type": "stream",
     "text": [
      "WARNING: Ignoring invalid distribution -illow (c:\\users\\teamd\\.conda\\envs\\sfm\\lib\\site-packages)\n",
      "WARNING: Ignoring invalid distribution -illow (c:\\users\\teamd\\.conda\\envs\\sfm\\lib\\site-packages)\n"
     ]
    }
   ],
   "source": [
    "%pip install -q dacite"
   ]
  },
  {
   "cell_type": "code",
   "execution_count": 4,
   "metadata": {},
   "outputs": [],
   "source": [
    "from dataclasses import dataclass, asdict\n",
    "\n",
    "@dataclass(frozen=True)\n",
    "class PayloadFile:\n",
    "    path: str\n",
    "    mimetype: str\n",
    "\n",
    "@dataclass(frozen=True)\n",
    "class Payload:\n",
    "    prompt: str\n",
    "    files: list[PayloadFile]"
   ]
  },
  {
   "cell_type": "code",
   "execution_count": 5,
   "metadata": {},
   "outputs": [],
   "source": [
    "arg = '{\"prompt\": \"This is a prompt\", \"files\": [{\"path\": \"file1.txt\", \"mimetype\": \"text/plain\"}, {\"path\": \"file2.txt\", \"mimetype\": \"text/plain\"}]}'"
   ]
  },
  {
   "cell_type": "code",
   "execution_count": 6,
   "metadata": {},
   "outputs": [
    {
     "name": "stdout",
     "output_type": "stream",
     "text": [
      "Payload(prompt='This is a prompt',\n",
      "        files=[PayloadFile(path='file1.txt', mimetype='text/plain'),\n",
      "               PayloadFile(path='file2.txt', mimetype='text/plain')])\n"
     ]
    }
   ],
   "source": [
    "import json\n",
    "from dacite import from_dict\n",
    "from pprint import pprint\n",
    "# Load the JSON data\n",
    "data = json.loads(arg)\n",
    "\n",
    "# Use dacite to convert the loaded data into a Payload instance\n",
    "payload = from_dict(data_class=Payload, data=data)\n",
    "\n",
    "# Print the result\n",
    "pprint(payload)"
   ]
  },
  {
   "cell_type": "code",
   "execution_count": 7,
   "metadata": {},
   "outputs": [
    {
     "data": {
      "text/plain": [
       "{'prompt': 'This is a prompt',\n",
       " 'files': [{'path': 'file1.txt', 'mimetype': 'text/plain'},\n",
       "  {'path': 'file2.txt', 'mimetype': 'text/plain'}]}"
      ]
     },
     "execution_count": 7,
     "metadata": {},
     "output_type": "execute_result"
    }
   ],
   "source": [
    "asdict(payload)"
   ]
  }
 ],
 "metadata": {
  "kernelspec": {
   "display_name": "sfm",
   "language": "python",
   "name": "python3"
  },
  "language_info": {
   "codemirror_mode": {
    "name": "ipython",
    "version": 3
   },
   "file_extension": ".py",
   "mimetype": "text/x-python",
   "name": "python",
   "nbconvert_exporter": "python",
   "pygments_lexer": "ipython3",
   "version": "3.10.12"
  }
 },
 "nbformat": 4,
 "nbformat_minor": 2
}
