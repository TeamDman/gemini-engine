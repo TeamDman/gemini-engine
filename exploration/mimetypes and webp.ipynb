{
 "cells": [
  {
   "cell_type": "code",
   "execution_count": 1,
   "metadata": {},
   "outputs": [
    {
     "name": "stdout",
     "output_type": "stream",
     "text": [
      "('image/png', None)\n",
      "(None, None)\n"
     ]
    }
   ],
   "source": [
    "import mimetypes\n",
    "# works\n",
    "print(mimetypes.guess_type(\"abc.png\"))\n",
    "\n",
    "# does not work\n",
    "print(mimetypes.guess_type(\"abc.webp\"))"
   ]
  }
 ],
 "metadata": {
  "kernelspec": {
   "display_name": "sfm",
   "language": "python",
   "name": "python3"
  },
  "language_info": {
   "codemirror_mode": {
    "name": "ipython",
    "version": 3
   },
   "file_extension": ".py",
   "mimetype": "text/x-python",
   "name": "python",
   "nbconvert_exporter": "python",
   "pygments_lexer": "ipython3",
   "version": "3.10.12"
  }
 },
 "nbformat": 4,
 "nbformat_minor": 2
}
