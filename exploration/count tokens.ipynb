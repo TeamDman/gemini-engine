{
 "cells": [
  {
   "cell_type": "code",
   "execution_count": 1,
   "metadata": {},
   "outputs": [],
   "source": [
    "try:\n",
    "    assert api_key\n",
    "except NameError:\n",
    "    api_key = !op read \"op://Private/Google AI Studio Gemini API key/credential\"\n",
    "    assert api_key\n",
    "    api_key = api_key[0]"
   ]
  },
  {
   "cell_type": "code",
   "execution_count": 2,
   "metadata": {},
   "outputs": [],
   "source": [
    "import requests\n",
    "import googleapiclient\n",
    "from googleapiclient.discovery import build\n",
    "from googleapiclient.http import MediaFileUpload\n",
    "import mimetypes"
   ]
  },
  {
   "cell_type": "code",
   "execution_count": 10,
   "metadata": {},
   "outputs": [],
   "source": [
    "GENAI_DISCOVERY_URL = f\"https://generativelanguage.googleapis.com/$discovery/rest?version=v1beta&key={api_key}\"\n",
    "discovery_docs = requests.get(GENAI_DISCOVERY_URL)\n",
    "genai_service = googleapiclient.discovery.build_from_document(\n",
    "    discovery_docs.content, developerKey=api_key)\n",
    "models_api = genai_service.models()"
   ]
  },
  {
   "cell_type": "code",
   "execution_count": 50,
   "metadata": {},
   "outputs": [
    {
     "data": {
      "text/plain": [
       "{'totalTokens': 5}"
      ]
     },
     "execution_count": 50,
     "metadata": {},
     "output_type": "execute_result"
    }
   ],
   "source": [
    "params = {\n",
    "    \"model\": \"models/gemini-1.5-pro-latest\",\n",
    "    \"body\": {\n",
    "        \"contents\": [\n",
    "            {\n",
    "                \"parts\": [\n",
    "                    {\"text\": \"test WOOHOO!\"},\n",
    "                ]\n",
    "            }\n",
    "        ]\n",
    "    },\n",
    "}\n",
    "request = models_api.countTokens(**params)\n",
    "response = request.execute()\n",
    "response"
   ]
  }
 ],
 "metadata": {
  "kernelspec": {
   "display_name": "sfm",
   "language": "python",
   "name": "python3"
  },
  "language_info": {
   "codemirror_mode": {
    "name": "ipython",
    "version": 3
   },
   "file_extension": ".py",
   "mimetype": "text/x-python",
   "name": "python",
   "nbconvert_exporter": "python",
   "pygments_lexer": "ipython3",
   "version": "3.10.12"
  }
 },
 "nbformat": 4,
 "nbformat_minor": 2
}
